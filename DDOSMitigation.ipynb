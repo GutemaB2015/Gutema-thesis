{
  "nbformat": 4,
  "nbformat_minor": 0,
  "metadata": {
    "colab": {
      "provenance": [],
      "authorship_tag": "ABX9TyPEiaziMdyTI2MkK3wC3gFt",
      "include_colab_link": true
    },
    "kernelspec": {
      "name": "python3",
      "display_name": "Python 3"
    },
    "language_info": {
      "name": "python"
    }
  },
  "cells": [
    {
      "cell_type": "markdown",
      "metadata": {
        "id": "view-in-github",
        "colab_type": "text"
      },
      "source": [
        "<a href=\"https://colab.research.google.com/github/GutemaB2015/Gutema-thesis/blob/main/DDOSMitigation.ipynb\" target=\"_parent\"><img src=\"https://colab.research.google.com/assets/colab-badge.svg\" alt=\"Open In Colab\"/></a>"
      ]
    },
    {
      "cell_type": "code",
      "execution_count": 3,
      "metadata": {
        "colab": {
          "base_uri": "https://localhost:8080/"
        },
        "id": "iKxloAlXpOJV",
        "outputId": "59712e36-b4f9-441b-c008-612f78b72778"
      },
      "outputs": [
        {
          "output_type": "stream",
          "name": "stderr",
          "text": [
            "/usr/local/lib/python3.10/dist-packages/sklearn/base.py:432: UserWarning: X has feature names, but GaussianNB was fitted without feature names\n",
            "  warnings.warn(\n"
          ]
        },
        {
          "name": "stdout",
          "output_type": "stream",
          "text": [
            "Request Packet :  [6.0, 61.0, 13, 17.0, 41.0, 86, 33.0, 46.0, 66, 90.0, 27, 47, 39.0, 84.0, 29.0, 99.0, 76, 98, 57.0, 34.0, 100.0, 58, 31.0, 57.0, 18.0, 33]\n",
            "Model Accuracy: 0.915625\n",
            "a DDoS attack with accuracy percentage of :  0.915625\n",
            "\n"
          ]
        },
        {
          "output_type": "stream",
          "name": "stderr",
          "text": [
            "/usr/local/lib/python3.10/dist-packages/sklearn/base.py:432: UserWarning: X has feature names, but GaussianNB was fitted without feature names\n",
            "  warnings.warn(\n"
          ]
        },
        {
          "name": "stdout",
          "output_type": "stream",
          "text": [
            "Request Packet :  [49.0, 98.0, 23, 28, 78.0, 94.0, 13, 31, 71, 49.0, 65, 65.0, 81, 19, 37.0, 1.0, 76, 83, 26, 33.0, 30, 51, 84, 30.0, 93, 50]\n",
            "Model Accuracy: 0.915625\n",
            "a DDoS attack with accuracy percentage of :  0.915625\n",
            "\n"
          ]
        },
        {
          "output_type": "stream",
          "name": "stderr",
          "text": [
            "/usr/local/lib/python3.10/dist-packages/sklearn/base.py:432: UserWarning: X has feature names, but GaussianNB was fitted without feature names\n",
            "  warnings.warn(\n"
          ]
        },
        {
          "output_type": "stream",
          "name": "stdout",
          "text": [
            "Request Packet :  [54, 93, 71.0, 87, 44, 34.0, 42, 62.0, 17, 69.0, 51, 28, 94, 82.0, 34.0, 53, 91, 91, 67, 41, 70, 75, 80.0, 26, 20.0, 44.0]\n",
            "Model Accuracy: 0.915625\n",
            "a DDoS attack with accuracy percentage of :  0.915625\n",
            "x\n",
            "Packet Sending stopped:\n"
          ]
        }
      ],
      "source": [
        "import numpy as np\n",
        "import pandas as pd\n",
        "import random\n",
        "\n",
        "import time\n",
        "from sklearn import preprocessing\n",
        "from sklearn.ensemble import RandomForestRegressor\n",
        "from sklearn.inspection import permutation_importance\n",
        "from sklearn.feature_selection import mutual_info_classif\n",
        "from sklearn.model_selection import train_test_split\n",
        "from sklearn.metrics import accuracy_score\n",
        "from sklearn.naive_bayes import GaussianNB\n",
        "\n",
        "DatasetUrl = 'https://raw.githubusercontent.com/GutemaB2015/DDOS-Detection-and-Mitigation/main/FillDataset.csv'\n",
        "data = pd.read_csv(DatasetUrl)\n",
        "\n",
        "\n",
        "label_encoder = preprocessing.LabelEncoder()\n",
        "data['Label'] = label_encoder.fit_transform(data['Label'])\n",
        "\n",
        "# Extraxt the features you want to base the foundation of our model training\n",
        "features = ['Max_Packet_Length','Fwd_Packet_Length_Max','Flow_Packets_Sec','Flow_Bytes_Sec','Packet_Length_Std'\n",
        "           ,'Packet_Length_Variance','Flow_IAT_Max','Fwd_IAT_Max','Subflow_Fwd_Bytes','Fwd_Packet_Length_Std'\n",
        "           ,'Bwd_Packets_Sec','min_seg_size_forward','Init_Win_bytes_backward','Average_Packet_Size'\n",
        "           ,'Packet_Length_Mean','Fwd_IAT_Total','Flow_IAT_Std','Fwd_IAT_Std','Avg_Fwd_Segment_Size'\n",
        "           ,'Fwd_Packet_Length_Mean','Fwd_Header_Length','Fwd_IAT_Mean','Flow_IAT_Mean','Idle_Max'\n",
        "           ,'Idle_Mean','Fwd_Packets_Sec']\n",
        "\n",
        "# the packet of request to be sent for demonstration\n",
        "new_traffic = [353,353,0.207573889,9.578052299,114.1646586,13033.56926,\n",
        "               79000000,79000000,969,119.0835509,0.009884471,0,29200\n",
        "               ,46.14285714,44.04545455,101000000,18000000,18400000\n",
        "               ,48.45,48.45,728,5323696.105,5058439.7,79000000,20500000,0.197689418]\n",
        "\n",
        "# Replace missing values with the mean of the column\n",
        "\n",
        "data['Idle_Mean'].fillna(data['Idle_Mean'].median(), inplace=True)\n",
        "data['Idle_Max'].fillna(data['Idle_Max'].median(), inplace=True)\n",
        "\n",
        "data['Flow_IAT_Mean'].fillna(data['Flow_IAT_Mean'].median(), inplace=True)\n",
        "data['Flow_IAT_Max'].fillna(data['Flow_IAT_Max'].median(), inplace=True)\n",
        "data['Flow_IAT_Std'].fillna(data['Flow_IAT_Std'].median(), inplace=True)\n",
        "\n",
        "data['Fwd_IAT_Total'].fillna(data['Fwd_IAT_Total'].median(), inplace=True)\n",
        "data['Fwd_IAT_Mean'].fillna(data['Fwd_IAT_Mean'].median(), inplace=True)\n",
        "data['Fwd_IAT_Std'].fillna(data['Fwd_IAT_Std'].median(), inplace=True)\n",
        "data['Fwd_IAT_Max'].fillna(data['Fwd_IAT_Max'].median(), inplace=True)\n",
        "\n",
        "data['Fwd_Packet_Length_Std'].fillna(data['Fwd_Packet_Length_Std'].median(), inplace=True)\n",
        "data['Fwd_Packet_Length_Max'].fillna(data['Fwd_Packet_Length_Max'].median(), inplace=True)\n",
        "data['Fwd_Packet_Length_Mean'].fillna(data['Fwd_Packet_Length_Mean'].median(), inplace=True)\n",
        "data['Fwd_Packets_Sec'].fillna(data['Fwd_Packets_Sec'].median(), inplace=True)\n",
        "\n",
        "\n",
        "data['Packet_Length_Variance'].fillna(data['Packet_Length_Variance'].median(), inplace=True)\n",
        "data['Packet_Length_Std'].fillna(data['Packet_Length_Std'].median(), inplace=True)\n",
        "data['Packet_Length_Mean'].fillna(data['Packet_Length_Mean'].median(), inplace=True)\n",
        "\n",
        "data['Flow_Bytes_Sec'].fillna(data['Flow_Bytes_Sec'].median(), inplace=True)\n",
        "data['Flow_Packets_Sec'].fillna(data['Flow_Packets_Sec'].median(), inplace=True)\n",
        "\n",
        "data['Subflow_Fwd_Bytes'].fillna(data['Subflow_Fwd_Bytes'].median(), inplace=True)\n",
        "data['Fwd_Header_Length'].fillna(data['Fwd_Header_Length'].median(), inplace=True)\n",
        "data['Avg_Fwd_Segment_Size'].fillna(data['Avg_Fwd_Segment_Size'].median(), inplace=True)\n",
        "data['Max_Packet_Length'].fillna(data['Max_Packet_Length'].median(), inplace=True)\n",
        "\n",
        "data['Average_Packet_Size'].fillna(data['Average_Packet_Size'].median(), inplace=True)\n",
        "data['Init_Win_bytes_backward'].fillna(data['Init_Win_bytes_backward'].median(), inplace=True)\n",
        "data['min_seg_size_forward'].fillna(data['min_seg_size_forward'].median(), inplace=True)\n",
        "data['Bwd_Packets_Sec'].fillna(data['Bwd_Packets_Sec'].median(), inplace=True)\n",
        "\n",
        "def detectMitigate(requestTraffic):\n",
        "    # Split the dataset into training and test sets\n",
        "    X_train, X_test, y_train, y_test = train_test_split(data[features], data[\"Label\"], test_size=0.2, random_state=1)\n",
        "\n",
        "\n",
        "    clf = GaussianNB()\n",
        "    clf.fit(X_train.values, y_train)\n",
        "    y_pred = clf.predict(X_test)\n",
        "    accuracy = accuracy_score(y_test, y_pred)\n",
        "    print(\"Model Accuracy:\", accuracy)\n",
        "\n",
        "    prediction = clf.predict(requestTraffic)\n",
        "\n",
        "    if prediction == 0:\n",
        "      print(\"The traffic is not a DDoS attack.\")\n",
        "    else:\n",
        "      # Create a list of blocked IP addresses\n",
        "      blocked_ips = []\n",
        "\n",
        "      if requestTraffic not in blocked_ips:\n",
        "        # Add the DDOS traffic request to the blocked list\n",
        "        blocked_ips.append(requestTraffic)\n",
        "        print(\"a DDoS attack with accuracy percentage of : \",accuracy)\n",
        "\n",
        "        with open(\"blocked_ips.txt\", \"w\") as f:\n",
        "          for requestTraffic in blocked_ips:\n",
        "            f.write(str(requestTraffic )+ \"\\n\")\n",
        "      else:\n",
        "         print(\"This request is already blocked.\")\n",
        "\n",
        "\n",
        "\n",
        "def sendRequest():\n",
        "  numbers = []\n",
        "  for i in range(26):\n",
        "    number = random.randint(1, 100)\n",
        "    if random.random() > 0.5:\n",
        "      number = float(number)\n",
        "    numbers.append(number)\n",
        "  return numbers\n",
        "\n",
        "\n",
        "# generate and send traffic requests until it is stopped\n",
        "traffic = np.array(sendRequest())\n",
        "new_traffic = np.array(new_traffic)\n",
        "\n",
        "\n",
        "\n",
        "\n",
        "while True:\n",
        "  print(\"Request Packet : \" , sendRequest())\n",
        "  detectMitigate(traffic.reshape(1,-1))\n",
        "\n",
        "  character = input()\n",
        "  if character == \"x\":\n",
        "    print(\"Packet Sending stopped:\")\n",
        "    time.sleep(1)\n",
        "    break\n",
        "\n"
      ]
    }
  ]
}